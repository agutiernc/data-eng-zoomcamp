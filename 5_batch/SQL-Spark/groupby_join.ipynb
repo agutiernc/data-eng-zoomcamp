{
 "cells": [
  {
   "cell_type": "code",
   "execution_count": 1,
   "id": "971fa720",
   "metadata": {},
   "outputs": [
    {
     "name": "stdout",
     "output_type": "stream",
     "text": [
      "24/03/03 19:57:33 WARN Utils: Your hostname, macmint resolves to a loopback address: 127.0.1.1; using 192.168.50.165 instead (on interface enp2s0)\n",
      "24/03/03 19:57:33 WARN Utils: Set SPARK_LOCAL_IP if you need to bind to another address\n"
     ]
    },
    {
     "name": "stderr",
     "output_type": "stream",
     "text": [
      "Setting default log level to \"WARN\".\n",
      "To adjust logging level use sc.setLogLevel(newLevel). For SparkR, use setLogLevel(newLevel).\n"
     ]
    },
    {
     "name": "stdout",
     "output_type": "stream",
     "text": [
      "24/03/03 19:57:33 WARN NativeCodeLoader: Unable to load native-hadoop library for your platform... using builtin-java classes where applicable\n"
     ]
    }
   ],
   "source": [
    "import pyspark\n",
    "from pyspark.sql import SparkSession\n",
    "\n",
    "spark = SparkSession.builder \\\n",
    "         .master(\"local[*]\") \\\n",
    "         .appName('test') \\\n",
    "         .getOrCreate()"
   ]
  },
  {
   "cell_type": "code",
   "execution_count": 2,
   "id": "f3a841f2",
   "metadata": {
    "scrolled": true
   },
   "outputs": [
    {
     "name": "stderr",
     "output_type": "stream",
     "text": [
      "                                                                                \r"
     ]
    }
   ],
   "source": [
    "df_green = spark.read.options(header=\"true\", inferSchema=\"true\").csv('data/raw/green/*/*/*.csv.gz')"
   ]
  },
  {
   "cell_type": "code",
   "execution_count": 3,
   "id": "dd856e24",
   "metadata": {},
   "outputs": [],
   "source": [
    "df_green.createOrReplaceTempView('green')"
   ]
  },
  {
   "cell_type": "code",
   "execution_count": 5,
   "id": "4d4d5740",
   "metadata": {},
   "outputs": [],
   "source": [
    "df_green_revenue = spark.sql(\"\"\"\n",
    "SELECT\n",
    "    date_trunc('month', lpep_pickup_datetime) AS hour,\n",
    "    PULocationID AS zone,\n",
    "    \n",
    "\n",
    "    SUM(total_amount) AS amount,\n",
    "\n",
    "    -- # records in each zone\n",
    "    COUNT(1) AS number_records\n",
    "FROM\n",
    "    green\n",
    "WHERE\n",
    "    -- filter out data not from 2020\n",
    "    lpep_pickup_datetime >= '2020-01-01 00:00:00'\n",
    "GROUP BY\n",
    "    1, 2\n",
    "\"\"\")"
   ]
  },
  {
   "cell_type": "code",
   "execution_count": 6,
   "id": "c594847f",
   "metadata": {
    "scrolled": true
   },
   "outputs": [
    {
     "name": "stderr",
     "output_type": "stream",
     "text": [
      "[Stage 2:============================================>              (3 + 1) / 4]\r"
     ]
    },
    {
     "name": "stdout",
     "output_type": "stream",
     "text": [
      "+-------------------+----+------------------+--------------+\n",
      "|               hour|zone|            amount|number_records|\n",
      "+-------------------+----+------------------+--------------+\n",
      "|2020-01-01 00:00:00| 258|12992.799999999985|           422|\n",
      "|2020-02-01 00:00:00|  12| 73.74000000000001|             2|\n",
      "|2020-03-01 00:00:00| 202| 718.6999999999998|            35|\n",
      "|2020-01-01 00:00:00| 191|26858.520000000084|           782|\n",
      "|2020-02-01 00:00:00| 188|52174.299999999195|          2115|\n",
      "|2020-03-01 00:00:00|   7| 93256.04000000852|          7411|\n",
      "|2020-03-01 00:00:00| 232|2700.1500000000005|            94|\n",
      "|2020-01-01 00:00:00|  59| 806.6000000000001|            32|\n",
      "|2020-01-01 00:00:00|  36| 24738.00999999994|          1001|\n",
      "|2020-01-01 00:00:00| 171|16140.340000000006|           501|\n",
      "|2020-02-01 00:00:00|  41| 288144.1599999318|         23040|\n",
      "|2020-02-01 00:00:00|  15| 5257.900000000001|           149|\n",
      "|2020-03-01 00:00:00| 197| 28972.29999999987|           846|\n",
      "|2020-03-01 00:00:00| 124|1903.6199999999997|            75|\n",
      "|2020-01-01 00:00:00|  53| 6873.769999999996|           242|\n",
      "|2020-02-01 00:00:00| 260| 97264.58000000793|          6994|\n",
      "|2020-02-01 00:00:00|   8|            114.57|             3|\n",
      "|2020-02-01 00:00:00| 172|              20.8|             1|\n",
      "|2020-03-01 00:00:00| 173| 8202.380000000034|           550|\n",
      "|2020-03-01 00:00:00|  91|14492.999999999964|           625|\n",
      "+-------------------+----+------------------+--------------+\n",
      "only showing top 20 rows\n",
      "\n"
     ]
    },
    {
     "name": "stderr",
     "output_type": "stream",
     "text": [
      "\r",
      "                                                                                \r"
     ]
    }
   ],
   "source": [
    "df_green_revenue.show()"
   ]
  },
  {
   "cell_type": "code",
   "execution_count": 7,
   "id": "116d1637",
   "metadata": {
    "scrolled": true
   },
   "outputs": [
    {
     "name": "stderr",
     "output_type": "stream",
     "text": [
      "                                                                                \r"
     ]
    }
   ],
   "source": [
    "df_green_revenue.repartition(20).write.parquet('data/report/revenue/green', mode='overwrite')"
   ]
  },
  {
   "cell_type": "code",
   "execution_count": 8,
   "id": "72881a06",
   "metadata": {
    "scrolled": true
   },
   "outputs": [
    {
     "name": "stderr",
     "output_type": "stream",
     "text": [
      "                                                                                \r"
     ]
    }
   ],
   "source": [
    "df_yellow = spark.read.options(header=\"true\", inferSchema=\"true\").csv('data/raw/yellow/*/*/*.csv.gz')"
   ]
  },
  {
   "cell_type": "code",
   "execution_count": 9,
   "id": "ad9aa3ed",
   "metadata": {},
   "outputs": [],
   "source": [
    "df_yellow.createOrReplaceTempView('yellow')"
   ]
  },
  {
   "cell_type": "code",
   "execution_count": 10,
   "id": "c3eec711",
   "metadata": {},
   "outputs": [
    {
     "data": {
      "text/plain": [
       "['VendorID',\n",
       " 'tpep_pickup_datetime',\n",
       " 'tpep_dropoff_datetime',\n",
       " 'passenger_count',\n",
       " 'trip_distance',\n",
       " 'RatecodeID',\n",
       " 'store_and_fwd_flag',\n",
       " 'PULocationID',\n",
       " 'DOLocationID',\n",
       " 'payment_type',\n",
       " 'fare_amount',\n",
       " 'extra',\n",
       " 'mta_tax',\n",
       " 'tip_amount',\n",
       " 'tolls_amount',\n",
       " 'improvement_surcharge',\n",
       " 'total_amount',\n",
       " 'congestion_surcharge']"
      ]
     },
     "execution_count": 10,
     "metadata": {},
     "output_type": "execute_result"
    }
   ],
   "source": [
    "df_yellow.columns"
   ]
  },
  {
   "cell_type": "code",
   "execution_count": 11,
   "id": "eb3d1665",
   "metadata": {},
   "outputs": [],
   "source": [
    "df_yellow_revenue = spark.sql(\"\"\"\n",
    "SELECT\n",
    "    date_trunc('month', tpep_pickup_datetime) AS hour,\n",
    "    PULocationID AS zone,\n",
    "    \n",
    "\n",
    "    SUM(total_amount) AS amount,\n",
    "\n",
    "    -- # records in each zone\n",
    "    COUNT(1) AS number_records\n",
    "FROM\n",
    "    yellow\n",
    "WHERE\n",
    "    -- filter out data not from 2020\n",
    "    tpep_pickup_datetime >= '2020-01-01 00:00:00'\n",
    "GROUP BY\n",
    "    1, 2\n",
    "\"\"\")"
   ]
  },
  {
   "cell_type": "code",
   "execution_count": 12,
   "id": "8612cf02",
   "metadata": {
    "scrolled": true
   },
   "outputs": [
    {
     "name": "stderr",
     "output_type": "stream",
     "text": [
      "[Stage 13:=================================================>        (6 + 1) / 7]\r"
     ]
    },
    {
     "name": "stdout",
     "output_type": "stream",
     "text": [
      "+-------------------+----+------------------+--------------+\n",
      "|               hour|zone|            amount|number_records|\n",
      "+-------------------+----+------------------+--------------+\n",
      "|2020-01-01 00:00:00| 258| 10078.70999999999|           291|\n",
      "|2020-01-01 00:00:00| 191|21641.960000000003|           472|\n",
      "|2020-01-01 00:00:00|  36|14542.690000000024|           575|\n",
      "|2020-01-01 00:00:00| 171| 8920.479999999994|           247|\n",
      "|2020-01-01 00:00:00|  59|352.81999999999994|            10|\n",
      "|2020-01-01 00:00:00|  53| 7636.119999999998|           198|\n",
      "|2020-01-01 00:00:00| 190|3243.4200000000014|           160|\n",
      "|2020-01-01 00:00:00| 259| 7821.699999999998|           200|\n",
      "|2020-01-01 00:00:00|   2|             76.69|             3|\n",
      "|2020-01-01 00:00:00| 114|1305615.4400008079|         78908|\n",
      "|2020-01-01 00:00:00| 208|13712.950000000023|           360|\n",
      "|2020-01-01 00:00:00| 124| 13568.84000000002|           318|\n",
      "|2020-01-01 00:00:00| 187|            680.47|             8|\n",
      "|2020-01-01 00:00:00|  45|247599.25999997742|         12156|\n",
      "|2020-01-01 00:00:00| 101|10324.300000000021|           255|\n",
      "|2020-01-01 00:00:00| 183| 6622.949999999993|           151|\n",
      "|2020-01-01 00:00:00|  79|  2612426.02999936|        158125|\n",
      "|2020-01-01 00:00:00|  90|1703083.7700013595|        109572|\n",
      "|2020-01-01 00:00:00|   8|4956.7400000000025|            86|\n",
      "|2020-01-01 00:00:00|  92| 17628.32999999999|           482|\n",
      "+-------------------+----+------------------+--------------+\n",
      "only showing top 20 rows\n",
      "\n"
     ]
    },
    {
     "name": "stderr",
     "output_type": "stream",
     "text": [
      "\r",
      "                                                                                \r"
     ]
    }
   ],
   "source": [
    "df_yellow_revenue.show()"
   ]
  },
  {
   "cell_type": "code",
   "execution_count": 13,
   "id": "317b6ceb",
   "metadata": {
    "scrolled": false
   },
   "outputs": [
    {
     "name": "stderr",
     "output_type": "stream",
     "text": [
      "                                                                                \r"
     ]
    }
   ],
   "source": [
    "df_yellow_revenue.repartition(20).write.parquet('data/report/revenue/yellow', mode='overwrite')"
   ]
  },
  {
   "cell_type": "code",
   "execution_count": 14,
   "id": "9dc5164c",
   "metadata": {},
   "outputs": [],
   "source": [
    "# instead of computing everything on the fly, we'll use materialized results that were saved before\n",
    "df_green_revenue = spark.read.parquet('data/report/revenue/green')\n",
    "df_yellow_revenue = spark.read.parquet('data/report/revenue/yellow')"
   ]
  },
  {
   "cell_type": "code",
   "execution_count": 15,
   "id": "925a4cf9",
   "metadata": {},
   "outputs": [],
   "source": [
    "# to differentiate between green/yellow column names\n",
    "df_green_revenue_tmp = df_green_revenue \\\n",
    "    .withColumnRenamed('amount', 'green_amt') \\\n",
    "    .withColumnRenamed('number_records', 'green_number_records')\n",
    "\n",
    "df_yellow_revenue_tmp = df_yellow_revenue \\\n",
    "    .withColumnRenamed('amount', 'yellow_amt') \\\n",
    "    .withColumnRenamed('number_records', 'yellow_number_records')"
   ]
  },
  {
   "cell_type": "code",
   "execution_count": 16,
   "id": "b312ff7b",
   "metadata": {},
   "outputs": [],
   "source": [
    "df_join = df_green_revenue_tmp.join(df_yellow_revenue_tmp, on=['hour', 'zone'], how='outer')"
   ]
  },
  {
   "cell_type": "code",
   "execution_count": 17,
   "id": "beeb50af",
   "metadata": {
    "scrolled": true
   },
   "outputs": [
    {
     "name": "stdout",
     "output_type": "stream",
     "text": [
      "+-------------------+----+------------------+--------------------+------------------+---------------------+\n",
      "|               hour|zone|         green_amt|green_number_records|        yellow_amt|yellow_number_records|\n",
      "+-------------------+----+------------------+--------------------+------------------+---------------------+\n",
      "|2020-01-01 00:00:00|   1|            466.61|                   4| 74478.65000000053|                  755|\n",
      "|2020-01-01 00:00:00|   2|              null|                null|             76.69|                    3|\n",
      "|2020-01-01 00:00:00|   3| 14820.07999999998|                 510| 7942.369999999995|                  206|\n",
      "|2020-01-01 00:00:00|   4|           2972.79|                 100|181770.73999999434|                10147|\n",
      "|2020-01-01 00:00:00|   5|              null|                null|2387.8000000000006|                   39|\n",
      "|2020-01-01 00:00:00|   6|            198.18|                   4|            595.36|                   12|\n",
      "|2020-01-01 00:00:00|   7|207287.27999998364|               15995|125131.59000001155|                 8527|\n",
      "|2020-01-01 00:00:00|   8|              null|                null|4956.7400000000025|                   86|\n",
      "|2020-01-01 00:00:00|   9| 12017.92999999999|                 420| 4388.650000000001|                  134|\n",
      "|2020-01-01 00:00:00|  10| 21903.65000000004|                 783|150294.69999999975|                 2375|\n",
      "|2020-01-01 00:00:00|  11| 9497.449999999988|                 338| 4548.649999999999|                  130|\n",
      "|2020-01-01 00:00:00|  12|            180.95|                   4|43315.470000000205|                 1907|\n",
      "|2020-01-01 00:00:00|  13|            874.15|                  18|1148327.5000004065|                51053|\n",
      "|2020-01-01 00:00:00|  14| 49090.69999999992|                1586| 23777.51999999997|                  688|\n",
      "|2020-01-01 00:00:00|  15| 7400.020000000004|                 237| 4743.140000000001|                  148|\n",
      "|2020-01-01 00:00:00|  16|15106.800000000045|                 463|7437.5000000000055|                  219|\n",
      "|2020-01-01 00:00:00|  17| 57115.33999999948|                2842| 28722.26999999988|                 1248|\n",
      "|2020-01-01 00:00:00|  18|26964.249999999876|                 932| 9755.140000000005|                  276|\n",
      "|2020-01-01 00:00:00|  19| 8466.440000000008|                 243|           7394.28|                  190|\n",
      "|2020-01-01 00:00:00|  20|12923.200000000035|                 545| 5366.899999999998|                  153|\n",
      "+-------------------+----+------------------+--------------------+------------------+---------------------+\n",
      "only showing top 20 rows\n",
      "\n"
     ]
    }
   ],
   "source": [
    "df_join.show()"
   ]
  },
  {
   "cell_type": "code",
   "execution_count": 18,
   "id": "d2223b4e",
   "metadata": {},
   "outputs": [],
   "source": [
    "df_join.write.parquet('data/report/revenue/total', mode='overwrite')"
   ]
  },
  {
   "cell_type": "code",
   "execution_count": 19,
   "id": "3d4c90f0",
   "metadata": {},
   "outputs": [],
   "source": [
    "df_join = spark.read.parquet('data/report/revenue/total')"
   ]
  },
  {
   "cell_type": "code",
   "execution_count": 20,
   "id": "754184f8",
   "metadata": {
    "scrolled": true
   },
   "outputs": [
    {
     "name": "stdout",
     "output_type": "stream",
     "text": [
      "+-------------------+----+------------------+--------------------+------------------+---------------------+\n",
      "|               hour|zone|         green_amt|green_number_records|        yellow_amt|yellow_number_records|\n",
      "+-------------------+----+------------------+--------------------+------------------+---------------------+\n",
      "|2020-01-01 00:00:00|   1|            466.61|                   4| 74478.65000000053|                  755|\n",
      "|2020-01-01 00:00:00|   2|              null|                null|             76.69|                    3|\n",
      "|2020-01-01 00:00:00|   3| 14820.07999999998|                 510| 7942.369999999995|                  206|\n",
      "|2020-01-01 00:00:00|   4|           2972.79|                 100|181770.73999999434|                10147|\n",
      "|2020-01-01 00:00:00|   5|              null|                null|2387.8000000000006|                   39|\n",
      "|2020-01-01 00:00:00|   6|            198.18|                   4|            595.36|                   12|\n",
      "|2020-01-01 00:00:00|   7|207287.27999998364|               15995|125131.59000001155|                 8527|\n",
      "|2020-01-01 00:00:00|   8|              null|                null|4956.7400000000025|                   86|\n",
      "|2020-01-01 00:00:00|   9| 12017.92999999999|                 420| 4388.650000000001|                  134|\n",
      "|2020-01-01 00:00:00|  10| 21903.65000000004|                 783|150294.69999999975|                 2375|\n",
      "|2020-01-01 00:00:00|  11| 9497.449999999988|                 338| 4548.649999999999|                  130|\n",
      "|2020-01-01 00:00:00|  12|            180.95|                   4|43315.470000000205|                 1907|\n",
      "|2020-01-01 00:00:00|  13|            874.15|                  18|1148327.5000004065|                51053|\n",
      "|2020-01-01 00:00:00|  14| 49090.69999999992|                1586| 23777.51999999997|                  688|\n",
      "|2020-01-01 00:00:00|  15| 7400.020000000004|                 237| 4743.140000000001|                  148|\n",
      "|2020-01-01 00:00:00|  16|15106.800000000045|                 463|7437.5000000000055|                  219|\n",
      "|2020-01-01 00:00:00|  17| 57115.33999999948|                2842| 28722.26999999988|                 1248|\n",
      "|2020-01-01 00:00:00|  18|26964.249999999876|                 932| 9755.140000000005|                  276|\n",
      "|2020-01-01 00:00:00|  19| 8466.440000000008|                 243|           7394.28|                  190|\n",
      "|2020-01-01 00:00:00|  20|12923.200000000035|                 545| 5366.899999999998|                  153|\n",
      "+-------------------+----+------------------+--------------------+------------------+---------------------+\n",
      "only showing top 20 rows\n",
      "\n"
     ]
    }
   ],
   "source": [
    "df_join.show()"
   ]
  },
  {
   "cell_type": "code",
   "execution_count": 23,
   "id": "e8b0b769",
   "metadata": {},
   "outputs": [],
   "source": [
    "df_zones = spark.read.parquet('zones/')"
   ]
  },
  {
   "cell_type": "code",
   "execution_count": 24,
   "id": "863e9abb",
   "metadata": {},
   "outputs": [],
   "source": [
    "df_result = df_join.join(df_zones, df_join.zone == df_zones.LocationID)"
   ]
  },
  {
   "cell_type": "code",
   "execution_count": 27,
   "id": "15694834",
   "metadata": {},
   "outputs": [],
   "source": [
    "df_result.drop('LocationID', 'zone').write.parquet('tmp/revenue-zones', mode='overwrite')"
   ]
  }
 ],
 "metadata": {
  "kernelspec": {
   "display_name": "Python 3 (ipykernel)",
   "language": "python",
   "name": "python3"
  },
  "language_info": {
   "codemirror_mode": {
    "name": "ipython",
    "version": 3
   },
   "file_extension": ".py",
   "mimetype": "text/x-python",
   "name": "python",
   "nbconvert_exporter": "python",
   "pygments_lexer": "ipython3",
   "version": "3.11.5"
  }
 },
 "nbformat": 4,
 "nbformat_minor": 5
}
